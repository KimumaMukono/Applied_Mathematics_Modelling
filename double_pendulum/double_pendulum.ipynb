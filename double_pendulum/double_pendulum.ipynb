{
  "cells": [
    {
      "cell_type": "markdown",
      "metadata": {
        "id": "ODN1ZC31Qb2o"
      },
      "source": [
        "\n",
        "# The double pendulum problem\n",
        "\n",
        "This animation illustrates the double pendulum problem.\n",
        "\n",
        "Double pendulum formula translated from the C code at\n",
        "http://www.physics.usyd.edu.au/~wheat/dpend_html/solve_dpend.c\n",
        "\n",
        "Output generated via `matplotlib.animation.Animation.to_jshtml`.\n"
      ]
    },
    {
      "cell_type": "markdown",
      "source": [
        "## Mathematical Model\n",
        "The double pendulum is modeled using four state variables:\n",
        "- $\\theta_1$: Angle of the first pendulum.\n",
        "- $\\omega_1 = d\\theta_1/dt$: Angular velocity of the first pendulum.\n",
        "- $\\theta_2$: Angle of the second pendulum.\n",
        "- $\\omega_2 = d\\theta_2/dt$: Angular velocity of the second pendulum.\n",
        "\n",
        "The system's motion is governed by a set of nonlinear ordinary differential equations (ODEs) derived from **Lagrangian mechanics**. These equations account for:\n",
        "- **Gravitational forces** acting on both masses.\n",
        "- **Interactions** between the pendulums, involving terms like $\\sin(\\theta_2 - \\theta_1)$ and $\\cos(\\theta_2 - \\theta_1)$.\n",
        "- **Inertia** influenced by the masses and lengths of the pendulums.\n",
        "\n",
        "The equations are solved numerically using **Euler's method** for simplicity, though a more accurate method like `scipy.integrate.solve_ivp` is recommended for precision."
      ],
      "metadata": {
        "id": "5heUiJPVTnud"
      }
    },
    {
      "cell_type": "code",
      "execution_count": 2,
      "metadata": {
        "colab": {
          "base_uri": "https://localhost:8080/",
          "height": 356
        },
        "id": "7h0V1MVcQb2s",
        "outputId": "2fc7c7dc-1faf-440c-e4d5-af2ab8f396d6"
      },
      "outputs": [
        {
          "output_type": "display_data",
          "data": {
            "text/plain": [
              "<Figure size 500x400 with 1 Axes>"
            ],
            "image/png": "[encoded data removed]"
          },
          "metadata": {}
        }
      ],
      "source": [
        "import matplotlib.pyplot as plt\n",
        "import numpy as np\n",
        "from numpy import cos, sin\n",
        "\n",
        "import matplotlib.animation as animation\n",
        "\n",
        "G = 9.8  # acceleration due to gravity, in m/s^2\n",
        "L1 = 1.0  # length of pendulum 1 in m\n",
        "L2 = 1.0  # length of pendulum 2 in m\n",
        "L = L1 + L2  # maximal length of the combined pendulum\n",
        "M1 = 1.0  # mass of pendulum 1 in kg\n",
        "M2 = 1.0  # mass of pendulum 2 in kg\n",
        "t_stop = 2.5  # how many seconds to simulate\n",
        "history_len = 500  # how many trajectory points to display\n",
        "\n",
        "\n",
        "def derivs(t, state):\n",
        "    dydx = np.zeros_like(state)\n",
        "\n",
        "    dydx[0] = state[1]\n",
        "\n",
        "    delta = state[2] - state[0]\n",
        "    den1 = (M1+M2) * L1 - M2 * L1 * cos(delta) * cos(delta)\n",
        "    dydx[1] = ((M2 * L1 * state[1] * state[1] * sin(delta) * cos(delta)\n",
        "                + M2 * G * sin(state[2]) * cos(delta)\n",
        "                + M2 * L2 * state[3] * state[3] * sin(delta)\n",
        "                - (M1+M2) * G * sin(state[0]))\n",
        "               / den1)\n",
        "\n",
        "    dydx[2] = state[3]\n",
        "\n",
        "    den2 = (L2/L1) * den1\n",
        "    dydx[3] = ((- M2 * L2 * state[3] * state[3] * sin(delta) * cos(delta)\n",
        "                + (M1+M2) * G * sin(state[0]) * cos(delta)\n",
        "                - (M1+M2) * L1 * state[1] * state[1] * sin(delta)\n",
        "                - (M1+M2) * G * sin(state[2]))\n",
        "               / den2)\n",
        "\n",
        "    return dydx\n",
        "\n",
        "# create a time array from 0..t_stop sampled at 0.02 second steps\n",
        "dt = 0.01\n",
        "t = np.arange(0, t_stop, dt)\n",
        "\n",
        "# th1 and th2 are the initial angles (degrees)\n",
        "# w10 and w20 are the initial angular velocities (degrees per second)\n",
        "th1 = 120.0\n",
        "w1 = 0.0\n",
        "th2 = -10.0\n",
        "w2 = 0.0\n",
        "\n",
        "# initial state\n",
        "state = np.radians([th1, w1, th2, w2])\n",
        "\n",
        "# integrate the ODE using Euler's method\n",
        "y = np.empty((len(t), 4))\n",
        "y[0] = state\n",
        "for i in range(1, len(t)):\n",
        "    y[i] = y[i - 1] + derivs(t[i - 1], y[i - 1]) * dt\n",
        "\n",
        "# A more accurate estimate could be obtained e.g. using scipy:\n",
        "#\n",
        "#   y = scipy.integrate.solve_ivp(derivs, t[[0, -1]], state, t_eval=t).y.T\n",
        "\n",
        "x1 = L1*sin(y[:, 0])\n",
        "y1 = -L1*cos(y[:, 0])\n",
        "\n",
        "x2 = L2*sin(y[:, 2]) + x1\n",
        "y2 = -L2*cos(y[:, 2]) + y1\n",
        "\n",
        "fig = plt.figure(figsize=(5, 4))\n",
        "ax = fig.add_subplot(autoscale_on=False, xlim=(-L, L), ylim=(-L, 1.))\n",
        "ax.set_aspect('equal')\n",
        "ax.grid()\n",
        "\n",
        "line, = ax.plot([], [], 'o-', lw=2)\n",
        "trace, = ax.plot([], [], '.-', lw=1, ms=2)\n",
        "time_template = 'time = %.1fs'\n",
        "time_text = ax.text(0.05, 0.9, '', transform=ax.transAxes)\n",
        "\n",
        "\n",
        "def animate(i):\n",
        "    thisx = [0, x1[i], x2[i]]\n",
        "    thisy = [0, y1[i], y2[i]]\n",
        "\n",
        "    history_x = x2[:i]\n",
        "    history_y = y2[:i]\n",
        "\n",
        "    line.set_data(thisx, thisy)\n",
        "    trace.set_data(history_x, history_y)\n",
        "    time_text.set_text(time_template % (i*dt))\n",
        "    return line, trace, time_text\n",
        "\n",
        "\n",
        "ani = animation.FuncAnimation(\n",
        "    fig, animate, len(y), interval=dt*1000, blit=True)\n",
        "plt.show()"
      ]
    },
    {
      "cell_type": "markdown",
      "source": [
        "## Simulation and Visualization\n",
        "\n",
        "### Parameters\n",
        "- **Physical Parameters**:\n",
        "  - Gravity: $G = 9.8 \\, \\text{m/s}^2$.\n",
        "  - Lengths: $L_1 = L_2 = 1.0 \\, \\text{m}$.\n",
        "  - Masses: $M_1 = M_2 = 1.0 \\, \\text{kg}$.\n",
        "- **Initial Conditions**:\n",
        "  - First pendulum: $\\theta_1 = 120^\\circ$, $\\omega_1 = 0^\\circ/\\text{s}$.\n",
        "  - Second pendulum: $\\theta_2 = -10^\\circ$, $\\omega_2 = 0^\\circ/\\text{s}$.\n",
        "- **Simulation Settings**:\n",
        "  - Duration: 2.5 seconds.\n",
        "  - Time step: 0.01 seconds.\n",
        "  - Trajectory history: 500 points.\n",
        "\n",
        "### Visualization\n",
        "The animation, created with Matplotlib, shows:\n",
        "- The positions of both pendulum masses, connected by lines.\n",
        "- A trace of the second pendulum's path to highlight its motion.\n",
        "- A time display to track the simulation progress.\n",
        "\n",
        "Run the code below to see the double pendulum in action!"
      ],
      "metadata": {
        "id": "iC0Gmvp0UINJ"
      }
    }
  ],
  "metadata": {
    "kernelspec": {
      "display_name": "Python 3",
      "language": "python",
      "name": "python3"
    },
    "language_info": {
      "codemirror_mode": {
        "name": "ipython",
        "version": 3
      },
      "file_extension": ".py",
      "mimetype": "text/x-python",
      "name": "python",
      "nbconvert_exporter": "python",
      "pygments_lexer": "ipython3",
      "version": "3.13.2"
    },
    "colab": {
      "provenance": []
    }
  },
  "nbformat": 4,
  "nbformat_minor": 0
}